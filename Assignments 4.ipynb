{
 "cells": [
  {
   "cell_type": "code",
   "execution_count": null,
   "id": "281ab2f2",
   "metadata": {},
   "outputs": [],
   "source": [
    "\"\"\"Q-1. Write an SQL query to print the FIRST_NAME from Worker table after replacing ‘a’\n",
    "with ‘A’.\n",
    "\n",
    "Ans: select REPLACE(FIRST_NAME,'a','A') from worker;\n",
    "\n",
    "\"\"\""
   ]
  },
  {
   "cell_type": "code",
   "execution_count": null,
   "id": "e777dec7",
   "metadata": {},
   "outputs": [],
   "source": [
    "\"\"\"Q-2. Write an SQL query to print all Worker details from the Worker table order by\n",
    "FIRST_NAME Ascending and DEPARTMENT Descending.\n",
    "\n",
    "Ans: select * from worker\n",
    "     ORDER BY FIRST_NAME, DEPARTMENT Desc;\n",
    "\n",
    "\"\"\""
   ]
  },
  {
   "cell_type": "code",
   "execution_count": null,
   "id": "0cb21740",
   "metadata": {},
   "outputs": [],
   "source": [
    "\"\"\"Q-3. Write an SQL query to fetch the names of workers who earn the highest salary.\n",
    "Ans: select worker_names from worker\n",
    "     where salary = (select max(salary) from worker)\n",
    "\n",
    "\"\"\""
   ]
  }
 ],
 "metadata": {
  "kernelspec": {
   "display_name": "Python 3 (ipykernel)",
   "language": "python",
   "name": "python3"
  },
  "language_info": {
   "codemirror_mode": {
    "name": "ipython",
    "version": 3
   },
   "file_extension": ".py",
   "mimetype": "text/x-python",
   "name": "python",
   "nbconvert_exporter": "python",
   "pygments_lexer": "ipython3",
   "version": "3.9.12"
  }
 },
 "nbformat": 4,
 "nbformat_minor": 5
}
