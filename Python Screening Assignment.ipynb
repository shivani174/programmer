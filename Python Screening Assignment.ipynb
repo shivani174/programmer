{
 "cells": [
  {
   "cell_type": "code",
   "execution_count": 30,
   "id": "e0b423ab",
   "metadata": {},
   "outputs": [],
   "source": [
    "\"\"\"\n",
    "1. Create a function in python to read the text file and replace specific content\n",
    "of the file.\n",
    "\n",
    "\"\"\""
   ]
  },
  {
   "cell_type": "code",
   "execution_count": null,
   "id": "947dd00e",
   "metadata": {},
   "outputs": [],
   "source": [
    "f = open(\"example.txt\",\"w\")"
   ]
  },
  {
   "cell_type": "code",
   "execution_count": 32,
   "id": "f6f209db",
   "metadata": {},
   "outputs": [],
   "source": [
    "f.write(\"This is a placement assignment\")"
   ]
  },
  {
   "cell_type": "code",
   "execution_count": null,
   "id": "e40fecd1",
   "metadata": {},
   "outputs": [],
   "source": [
    "f.close()"
   ]
  },
  {
   "cell_type": "code",
   "execution_count": 34,
   "id": "a32799de",
   "metadata": {},
   "outputs": [],
   "source": [
    "s_tex = \"placement\"\n",
    "r_tex = \"Screening\"\n",
    "with open(r'example.txt','r') as newf:\n",
    "    x = newf.read()\n",
    "    x=x.replace(s_tex, r_tex)\n",
    "with open(r'example.txt','w') as newf:\n",
    "    newf.write(x)\n",
    "    "
   ]
  },
  {
   "cell_type": "code",
   "execution_count": null,
   "id": "26584d57",
   "metadata": {},
   "outputs": [],
   "source": [
    "\"\"\"\n",
    "2. Demonstrate use of abstract class, multiple inheritance and decorator in\n",
    "python using examples.\n",
    "\n",
    "Ans: Python is object oriented programming language. OOP consists of Inheritance. \n",
    "     Inheritance is the subclass/childclass inherits the property,attributes or method of a parent class.\n",
    "     Multiple inheritance is the subclass inheriting the attributes, property of two or more than two classes.\n",
    "     \n",
    "     for eg: class P:\n",
    "               body \n",
    "               \n",
    "             class C:\n",
    "               body\n",
    "               \n",
    "             class D(P,C):\n",
    "               body\n",
    "               \n",
    "               \n",
    "    In above example class D (i.e. childclass) has inheritted both P and C class.\n",
    "    \n",
    "    \n",
    "  Decorator:\n",
    "           \n",
    "           In Python, Decorator is a function that changes the behaviour of the existing function.\n",
    "           we can modify the function by making use of decorators.\n",
    "           \n",
    "           eg : \n",
    "   \n",
    "             def dec_sum1(func):\n",
    "              def title(a,b):\n",
    "                  print(\"Below the sum of a and be is given:\")\n",
    "                  func(a,b)\n",
    "              return title\n",
    "                     \n",
    "        \n",
    "            def sum(a,b):\n",
    "               print(a, '+', b, \"=\",a+b)\n",
    "            sum = dec_sum1(sum)\n",
    "            sum(2,4)\n",
    "\n",
    "           In the above example, we have existing function but we wanted to add title \n",
    "           in that existing function (i.e., sum) so with the help of decorator we were\n",
    "           able to do the modification without modifying/inturupting the existing one.\n",
    "           \n",
    "           \n",
    " Abstract class:\n",
    " \n",
    "            Abstract class is the class which contains abstract methods. Whenever we want to \n",
    "            implement abstract method we need to use @abstractmethod keyword. abstract method\n",
    "            does not have implementation but the declaration. By default in python we can't make\n",
    "            use of abstract class instead, we have built-in module i.e. ABC (Abstract Base Classes)\n",
    "            we make use of abtsract class when we don't want anyone to make the instance/object of that class.\n",
    "            secondly, when we want anyone must use method of abstract class inside its subclass.\n",
    "            \n",
    "            eg :\n",
    "            \n",
    "            from abc import ABC, abstractmethod\n",
    "            class Shape(ABC):\n",
    "               @abstarctmethod\n",
    "               def area(self):\n",
    "                 \n",
    "                 pass\n",
    "                 \n",
    "            class Square(shape):\n",
    "            \n",
    "               def area(self):\n",
    "                 print(\"Area of the square is side*side\")\n",
    "                \n",
    "            class Rectange(shape):\n",
    "               \n",
    "               def  area(self):\n",
    "                 print(\"Area of the rectangle is length*width\")\n",
    "                 \n",
    "                \n",
    "            s = square()\n",
    "            s.area()\n",
    "            \n",
    "            r = rectangle()\n",
    "            r.area()\n",
    "  \n",
    "\"\"\""
   ]
  }
 ],
 "metadata": {
  "kernelspec": {
   "display_name": "Python 3 (ipykernel)",
   "language": "python",
   "name": "python3"
  },
  "language_info": {
   "codemirror_mode": {
    "name": "ipython",
    "version": 3
   },
   "file_extension": ".py",
   "mimetype": "text/x-python",
   "name": "python",
   "nbconvert_exporter": "python",
   "pygments_lexer": "ipython3",
   "version": "3.9.12"
  }
 },
 "nbformat": 4,
 "nbformat_minor": 5
}
