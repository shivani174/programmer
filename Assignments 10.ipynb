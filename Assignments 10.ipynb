{
 "cells": [
  {
   "cell_type": "code",
   "execution_count": null,
   "id": "01ce41fb",
   "metadata": {},
   "outputs": [],
   "source": [
    "\"\"\"Q-19. Write an SQL query to determine the 5th highest salary without using TOP or limit\n",
    "method.\n",
    "Ans:SELECT * FROM (SELECT ROW_NUMBER() OVER (ORDER BY salary DESC) AS R_NUM, \n",
    "    first_name, salary FROM employee) as HEllO WHERE R_NUM=5;\n",
    "\n",
    "\"\"\""
   ]
  },
  {
   "cell_type": "code",
   "execution_count": null,
   "id": "54b41318",
   "metadata": {},
   "outputs": [],
   "source": [
    "\"\"\"Q-20. Write an SQL query to fetch the list of employees with the same salary.\n",
    "Ans: CREATE TABLE employee (\n",
    "    emp_id INT PRIMARY KEY AUTO_INCREMENT NOT NULL,\n",
    "    first_name VARCHAR(50),\n",
    "    last_name VARCHAR(50),\n",
    "    salary INT\n",
    ");\n",
    "\n",
    "INSERT INTO employee VALUES\n",
    "(1,'shivani','Deshmukh',120),\n",
    "(2,'Shivangi','Rawat',300),\n",
    "(3,'Diksha','Naik',50),\n",
    "(4,'Laksh','Naik',150),\n",
    "\n",
    "SELECT * FROM employee ORDER BY salary ASC;\n",
    "\n",
    "\"\"\""
   ]
  }
 ],
 "metadata": {
  "kernelspec": {
   "display_name": "Python 3 (ipykernel)",
   "language": "python",
   "name": "python3"
  },
  "language_info": {
   "codemirror_mode": {
    "name": "ipython",
    "version": 3
   },
   "file_extension": ".py",
   "mimetype": "text/x-python",
   "name": "python",
   "nbconvert_exporter": "python",
   "pygments_lexer": "ipython3",
   "version": "3.9.12"
  }
 },
 "nbformat": 4,
 "nbformat_minor": 5
}
