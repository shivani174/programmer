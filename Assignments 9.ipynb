{
 "cells": [
  {
   "cell_type": "code",
   "execution_count": null,
   "id": "a3da4625",
   "metadata": {},
   "outputs": [],
   "source": [
    "\"\"\"Q-17. Write an SQL query to show the top n (say 10) records of a table.\n",
    "Ans: SELECT TOP 10 * FROM Worker; \n",
    "SELECT * FROM Worker LIMIT 10;\n",
    "\n",
    "\"\"\""
   ]
  },
  {
   "cell_type": "code",
   "execution_count": null,
   "id": "e3be9b75",
   "metadata": {},
   "outputs": [],
   "source": [
    "\"\"\"Q-18. Write an SQL query to determine the nth (say n=5) highest salary from a table.\n",
    "\n",
    "Ans: SELECT DISTINCT(Salary) FROM Worker ORDER BY DESC LIMIT 1 OFFSET 5;\n",
    "\n",
    "\"\"\""
   ]
  }
 ],
 "metadata": {
  "kernelspec": {
   "display_name": "Python 3 (ipykernel)",
   "language": "python",
   "name": "python3"
  },
  "language_info": {
   "codemirror_mode": {
    "name": "ipython",
    "version": 3
   },
   "file_extension": ".py",
   "mimetype": "text/x-python",
   "name": "python",
   "nbconvert_exporter": "python",
   "pygments_lexer": "ipython3",
   "version": "3.9.12"
  }
 },
 "nbformat": 4,
 "nbformat_minor": 5
}
