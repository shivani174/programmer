{
 "cells": [
  {
   "cell_type": "code",
   "execution_count": null,
   "id": "e7858597",
   "metadata": {},
   "outputs": [],
   "source": [
    "\"\"\"Q-1. Write an SQL query to print details of the Workers who have joined in Feb’2014.\n",
    "\n",
    "Ans: select * from workers\n",
    "     where joining_date LIKE \"%2014-02%\"\n",
    "\n",
    "\"\"\""
   ]
  },
  {
   "cell_type": "code",
   "execution_count": null,
   "id": "bd5e98c2",
   "metadata": {},
   "outputs": [],
   "source": [
    "\"\"\"Q-2. Write an SQL query to fetch duplicate records having matching data in some fields of\n",
    "a table.\n",
    "\n",
    "Ans: SELECT column_name, COUNT(column_name) FROM Worker GROUP BY FEILD HAVING COUNT(column_name) > 1;\n",
    "\"\"\""
   ]
  },
  {
   "cell_type": "code",
   "execution_count": null,
   "id": "8f4180de",
   "metadata": {},
   "outputs": [],
   "source": [
    "\"\"\"Q-3. How to remove duplicate rows from Employees table.\"\"\"\n",
    "\n",
    "CREATE TABLE Employee (\n",
    "    ID INT PRIMARY KEY AUTO_INCREMENT NOT NULL,\n",
    "    FIRST_NAME VARCHAR(50),\n",
    "    LAST_NAME VARCHAR(50),\n",
    "    COUNTRY VARCHAR(50)\n",
    ");\n",
    "INSERT INTO Employee VALUES \n",
    "(1,'Shivangi','Deshmukh','INDIA'),\n",
    "(2,'Shivangi','Deshmukh','INDIA'),\n",
    "(3,'Shivangi','Deshmukh','INDIA'),\n",
    "(4,'STEVE','JOBS','USA'),\n",
    "(5,'STEVE','JOBS','USA'),\n",
    "(6,'STEVE','JOBS','USA');\n",
    "\n",
    "DELETE e1.* from employee e1 INNER JOIN employee e2 WHERE e1.id > e2.id AND e1.FIRST_NAME = e2.FIRST_NAME AND e1.LAST_NAME = e2.LAST_NAME AND e1.COUNTRY = e2.COUNTRY;"
   ]
  }
 ],
 "metadata": {
  "kernelspec": {
   "display_name": "Python 3 (ipykernel)",
   "language": "python",
   "name": "python3"
  },
  "language_info": {
   "codemirror_mode": {
    "name": "ipython",
    "version": 3
   },
   "file_extension": ".py",
   "mimetype": "text/x-python",
   "name": "python",
   "nbconvert_exporter": "python",
   "pygments_lexer": "ipython3",
   "version": "3.9.12"
  }
 },
 "nbformat": 4,
 "nbformat_minor": 5
}
