{
 "cells": [
  {
   "cell_type": "code",
   "execution_count": null,
   "id": "1749bca9",
   "metadata": {},
   "outputs": [],
   "source": [
    "\"\"\"Q-1. Write an SQL query to print the first three characters of  FIRST_NAME from Worker\n",
    "table.\n",
    "\n",
    "Ans: select substring( FIRST_NAME,1,3) from worker\n",
    "\"\"\""
   ]
  },
  {
   "cell_type": "code",
   "execution_count": null,
   "id": "18942b3f",
   "metadata": {},
   "outputs": [],
   "source": [
    "\"\"\"Q-2. Write an SQL query to find the position of the alphabet (‘a’) in the first name\n",
    "column ‘Amitabh’ from Worker table.\n",
    "\n",
    "Ans: select position('a'IN FIRST_NAME) from worker\n",
    "     where FIRST_NAME = ‘Amitabh’\n",
    "\"\"\""
   ]
  },
  {
   "cell_type": "code",
   "execution_count": null,
   "id": "37bd217f",
   "metadata": {},
   "outputs": [],
   "source": [
    "\"\"\"Q-3. Write an SQL query to print the name of employees having the highest salary in each\n",
    "department.\n",
    "\n",
    "Ans: SELECT first_name, last_name, salary, department FROM Worker w WHERE salary = (SELECT MAX(salary) FROM Worker \n",
    "     WHERE department = w.department)\n",
    "\"\"\""
   ]
  }
 ],
 "metadata": {
  "kernelspec": {
   "display_name": "Python 3 (ipykernel)",
   "language": "python",
   "name": "python3"
  },
  "language_info": {
   "codemirror_mode": {
    "name": "ipython",
    "version": 3
   },
   "file_extension": ".py",
   "mimetype": "text/x-python",
   "name": "python",
   "nbconvert_exporter": "python",
   "pygments_lexer": "ipython3",
   "version": "3.9.12"
  }
 },
 "nbformat": 4,
 "nbformat_minor": 5
}
