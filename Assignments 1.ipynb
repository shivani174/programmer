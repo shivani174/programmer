{
 "cells": [
  {
   "cell_type": "code",
   "execution_count": null,
   "id": "ff7ae002",
   "metadata": {},
   "outputs": [],
   "source": [
    "\"\"\"Q-1. Write an SQL query to fetch “FIRST_NAME” from Worker table using the alias\n",
    "name as WORKER_NAME\n",
    "Ans: select FIRST_NAME as WORKER_NAME from Worker;\n",
    "\n",
    "\"\"\""
   ]
  },
  {
   "cell_type": "code",
   "execution_count": null,
   "id": "0eae3369",
   "metadata": {},
   "outputs": [],
   "source": [
    "\"\"\"Q-2. Write an SQL query to fetch unique values of DEPARTMENT from Worker table.\n",
    "Ans: select DISTINCT DEPARTMENT from Worker;\n",
    "\n",
    "\"\"\""
   ]
  },
  {
   "cell_type": "code",
   "execution_count": null,
   "id": "fdf8d691",
   "metadata": {},
   "outputs": [],
   "source": [
    "\"\"\"Q-3. Write an SQL query to show the last 5 record from a table.\n",
    "\n",
    "Ans: select * from worker \n",
    "     order by desc id limit 5;\n",
    "\"\"\""
   ]
  }
 ],
 "metadata": {
  "kernelspec": {
   "display_name": "Python 3 (ipykernel)",
   "language": "python",
   "name": "python3"
  },
  "language_info": {
   "codemirror_mode": {
    "name": "ipython",
    "version": 3
   },
   "file_extension": ".py",
   "mimetype": "text/x-python",
   "name": "python",
   "nbconvert_exporter": "python",
   "pygments_lexer": "ipython3",
   "version": "3.9.12"
  }
 },
 "nbformat": 4,
 "nbformat_minor": 5
}
