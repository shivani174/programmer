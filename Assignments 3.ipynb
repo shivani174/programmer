{
 "cells": [
  {
   "cell_type": "code",
   "execution_count": null,
   "id": "c984e553",
   "metadata": {},
   "outputs": [],
   "source": [
    "\"\"\"Q-1. Write an SQL query to print the FIRST_NAME from Worker table after removing\n",
    "white spaces from the right side.\n",
    "\n",
    "Ans: select RTRIM(FIRST_NAME) from worker;\n",
    "\"\"\""
   ]
  },
  {
   "cell_type": "code",
   "execution_count": null,
   "id": "43512da6",
   "metadata": {},
   "outputs": [],
   "source": [
    "\"\"\"Q-2. Write an SQL query that fetches the unique values of DEPARTMENT from Worker\n",
    "table and prints its length.\n",
    "\n",
    "Ans: select DISTINCT DEPARTMENT,len(DEPARTMENT) from wokrker\n",
    "     \n",
    "\"\"\""
   ]
  },
  {
   "cell_type": "code",
   "execution_count": null,
   "id": "2c9c5e37",
   "metadata": {},
   "outputs": [],
   "source": [
    "\"\"\"Q-3. Write an SQL query to fetch nth max salaries from a table.\n",
    "\n",
    "Ans: SELECT DISTINCT(Salary) FROM Worker ORDER BY Salary DESC LIMIT 1 OFFSET n;\n",
    "\n",
    "\"\"\""
   ]
  }
 ],
 "metadata": {
  "kernelspec": {
   "display_name": "Python 3 (ipykernel)",
   "language": "python",
   "name": "python3"
  },
  "language_info": {
   "codemirror_mode": {
    "name": "ipython",
    "version": 3
   },
   "file_extension": ".py",
   "mimetype": "text/x-python",
   "name": "python",
   "nbconvert_exporter": "python",
   "pygments_lexer": "ipython3",
   "version": "3.9.12"
  }
 },
 "nbformat": 4,
 "nbformat_minor": 5
}
